{
 "metadata": {
  "language_info": {
   "codemirror_mode": {
    "name": "ipython",
    "version": 3
   },
   "file_extension": ".py",
   "mimetype": "text/x-python",
   "name": "python",
   "nbconvert_exporter": "python",
   "pygments_lexer": "ipython3",
   "version": "3.8.1-final"
  },
  "orig_nbformat": 2,
  "kernelspec": {
   "name": "python3",
   "display_name": "Python 3",
   "language": "python"
  }
 },
 "nbformat": 4,
 "nbformat_minor": 2,
 "cells": [
  {
   "source": [
    "\n",
    "# Usage\n",
    "## How to create a new datastore\n",
    "\n",
    "1. Manually create a new empty directory on the computer/server for your datastore (e.g. mkdir /my_path/test_datastore)\n",
    "\n",
    "2. Manually insert a new element in the file ./datastore/datastores_config.py (e.g. a new datastore with short-name \"TEST\")\n",
    "   \n",
    "   *Example - remember to set the correct \"datastorePath\" (the directory created in step 1):*\n",
    "    ```python\n",
    "    \"TEST\": {\n",
    "        \"datastoreDomainName\": \"no.ssb.test\",\n",
    "        \"datastoreName\": \"SSB test\",\n",
    "        \"defaultLanguage\": \"no\",\n",
    "        \"datastorePath\": \"/my_path/test_datastore/\"\n",
    "    }\n",
    "    ```\n",
    "\n",
    "3. Run the Python script below to create a new empty datastore (including necessary subdirectories and configuration files)"
   ],
   "cell_type": "markdown",
   "metadata": {}
  },
  {
   "cell_type": "code",
   "execution_count": null,
   "metadata": {},
   "outputs": [],
   "source": [
    "### Create a new empty datastore ###\n",
    "\n",
    "import datastore_builder as dsb\n",
    "\n",
    "test_store = dsb.DatastoreBuilder(\n",
    "    datastore_short_name=\"TEST\",\n",
    "    include_testdata=False   # set parameter include_testdata=True to create test datasets\n",
    ")"
   ]
  },
  {
   "source": [
    "\n",
    "## How to validate data/metadata and add a new dataset to the datastore\n",
    "*Example below using included test-dataset \"TEST_PERSON_INCOME\"*"
   ],
   "cell_type": "markdown",
   "metadata": {}
  },
  {
   "cell_type": "code",
   "execution_count": null,
   "metadata": {},
   "outputs": [],
   "source": [
    "### Add a dataset to the datastore  ###\n",
    "\n",
    "import dataset_reader as dsr\n",
    "\n",
    "# Set path to dataset datafile (.csv/.txt) and metadata file (.json)\n",
    "test_dataset = dsr.DatasetReader(\n",
    "    data_file=\"../tests/resources/TEST_PERSON_INCOME.txt\",\n",
    "    metadata_file=\"../tests/resources/TEST_PERSON_INCOME.json\",\n",
    "    validate=\"all\"  # validate \"all\", \"data\" or \"metadata\"\n",
    ")\n",
    "\n",
    "# Validate data file, metadata file and consistency between data and metadata\n",
    "if test_dataset.validate_dataset() == True:\n",
    "    # Add dataset (data and metadata) to datastore if validation OK\n",
    "    test_dataset.create_new_dataset_in_datastore(\"TEST\")\n",
    "else:\n",
    "    print(\"ERROR in data/metadata! No dataset created in datastore.\")"
   ]
  }
 ]
}